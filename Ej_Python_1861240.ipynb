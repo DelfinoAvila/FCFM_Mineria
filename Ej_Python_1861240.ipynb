{
 "cells": [
  {
   "cell_type": "markdown",
   "id": "cb66297f",
   "metadata": {},
   "source": [
    "# Ejercicios Basicos Python\n",
    "\n",
    "### Ejercicio 1\n",
    "Realiza una variable con tu matricula y realiza una secuencia de imprimir con tu nombre y tu matricula concatenados."
   ]
  },
  {
   "cell_type": "code",
   "execution_count": 1,
   "id": "3d912c00",
   "metadata": {},
   "outputs": [
    {
     "data": {
      "text/plain": [
       "'Delfino1861240'"
      ]
     },
     "execution_count": 1,
     "metadata": {},
     "output_type": "execute_result"
    }
   ],
   "source": [
    "matricula = 1861240\n",
    "mi_nombre = \"Delfino\"\n",
    "nombre_mat = mi_nombre + str(matricula)\n",
    "nombre_mat"
   ]
  },
  {
   "cell_type": "markdown",
   "id": "3dab684f",
   "metadata": {},
   "source": [
    "### Ejercicio 2\n",
    "Pidiendo el input del usuario pide dos números y crea una pequeña calculadora con los operadores básicos de suma, resta, multiplicación, división, y exponente."
   ]
  },
  {
   "cell_type": "code",
   "execution_count": 2,
   "id": "e4892b7b",
   "metadata": {},
   "outputs": [
    {
     "name": "stdout",
     "output_type": "stream",
     "text": [
      "Introduzca un número: 2\n",
      "Introduzca otro número: 3\n",
      "La suma de los dos numeros es: 5\n",
      "La resta de los dos numeros es: -1\n",
      "La multiplicacion de los dos numeros es: 6\n",
      "La division de los dos numeros es: 0.6666666666666666\n",
      "El exponente de los dos numeros es: 8\n"
     ]
    }
   ],
   "source": [
    "n1 = int(input(\"Introduzca un número: \" ))\n",
    "n2 = int(input(\"Introduzca otro número: \"))\n",
    "\n",
    "print(\"La suma de los dos numeros es:\", (n1 + n2))\n",
    "print(\"La resta de los dos numeros es:\", (n1 - n2))\n",
    "print(\"La multiplicacion de los dos numeros es:\", (n1 * n2))\n",
    "print(\"La division de los dos numeros es:\", (n1 / n2))\n",
    "print(\"El exponente de los dos numeros es:\", (n1 ** n2))"
   ]
  },
  {
   "cell_type": "markdown",
   "id": "719f6f1a",
   "metadata": {},
   "source": [
    "### Ejercicio 3\n",
    "Con loop while o for, realiza una lista de 10 numeros multiplos de 3, y después realiza una función de loop que sume todos los números dentro del arreglo."
   ]
  },
  {
   "cell_type": "code",
   "execution_count": 3,
   "id": "739deeab",
   "metadata": {},
   "outputs": [
    {
     "name": "stdout",
     "output_type": "stream",
     "text": [
      "[3, 6, 9, 12, 15, 18, 21, 24, 27, 30]\n",
      "\n",
      "La suma de los multiplos es: 165\n"
     ]
    }
   ],
   "source": [
    "mult3 = []\n",
    "\n",
    "for i in range (1, 101):\n",
    "    if i%3 == 0:\n",
    "        mult3.append(i)\n",
    "    if len(mult3) == 10:\n",
    "        break\n",
    "print(mult3)\n",
    "suma_mult = 0\n",
    "\n",
    "for i in mult3:\n",
    "    suma_mult += i\n",
    "print(\"\\nLa suma de los multiplos es:\", suma_mult)"
   ]
  },
  {
   "cell_type": "markdown",
   "id": "cbd375f2",
   "metadata": {},
   "source": [
    "### Ejercicio 4\n",
    "Con una función de if else, revisar si un número es par o es impar.\n",
    "\n",
    "Con una función de if else, revisar si un número es primo o no."
   ]
  },
  {
   "cell_type": "code",
   "execution_count": 4,
   "id": "18c3683f",
   "metadata": {},
   "outputs": [
    {
     "name": "stdout",
     "output_type": "stream",
     "text": [
      "Introduce un número: 6\n",
      "El numero 6  es un numero par\n",
      "El numero no es primo\n"
     ]
    }
   ],
   "source": [
    "num = int(input(\"Introduce un número: \"))\n",
    "\n",
    "if num % 2 == 0:\n",
    "  print(\"El numero\", num,\" es un numero par\")\n",
    "else:\n",
    "  print(\"El numero\", num,\" es un numero impar\")\n",
    "\n",
    "cont = 0\n",
    "for n in range(2, num - 1):\n",
    "    if num % n == 0:\n",
    "        cont = 1\n",
    "        break\n",
    "\n",
    "if cont == 1:\n",
    "    print(\"El numero no es primo\")\n",
    "else:\n",
    "    print(\"El numero es primo\")"
   ]
  },
  {
   "cell_type": "markdown",
   "id": "57e14cb3",
   "metadata": {},
   "source": [
    "### Ejercicio 5\n",
    "Utilizando diferentes clases en python, crea una calculadora con los operadores básicos de suma, resta, multiplicación, división, y exponente.\n",
    "\n",
    "[Liga para dudas](https://es.stackoverflow.com/questions/408846/calculadora-con-poo-python)"
   ]
  },
  {
   "cell_type": "code",
   "execution_count": 5,
   "id": "91f470a1",
   "metadata": {},
   "outputs": [
    {
     "name": "stdout",
     "output_type": "stream",
     "text": [
      "Introduzca un numero: 5\n",
      "Introduzca otro numero: 6\n",
      "El resultado de la suma es: 11.0\n",
      "El resultado de la resta es: -1.0\n",
      "El resultado de la multiplicación es: 30.0\n",
      "El resultado de la división es: 0.8333333333333334\n",
      "El resultado del exponente es: 15625.0\n"
     ]
    }
   ],
   "source": [
    "class calculadora():\n",
    "    def __init__(self, num1, num2):\n",
    "        self.num1 = float(num1)\n",
    "        self.num2 = float(num2)\n",
    "\n",
    "    def suma(self):\n",
    "        suma = self.num1+self.num2\n",
    "        print(\"El resultado de la suma es:\", suma)\n",
    "    \n",
    "    def resta(self):\n",
    "        resta = self.num1-self.num2\n",
    "        print(\"El resultado de la resta es:\", resta)\n",
    "\n",
    "    def multiplicacion(self):\n",
    "        multiplicacion = self.num1*self.num2\n",
    "        print(\"El resultado de la multiplicación es:\", multiplicacion)\n",
    "\n",
    "    def division(self):\n",
    "        division = self.num1/self.num2\n",
    "        print(\"El resultado de la división es:\", division)\n",
    "    \n",
    "    def exponente(self):\n",
    "        exponente = self.num1**self.num2\n",
    "        print(\"El resultado del exponente es:\", exponente)\n",
    "\n",
    "num1 = input(\"Introduzca un numero: \")\n",
    "num2 = input(\"Introduzca otro numero: \")\n",
    "\n",
    "calculadora = calculadora(num1,num2)\n",
    "calculadora.suma()\n",
    "calculadora.resta()\n",
    "calculadora.multiplicacion()\n",
    "calculadora.division()\n",
    "calculadora.exponente()"
   ]
  },
  {
   "cell_type": "markdown",
   "id": "fa16cb29",
   "metadata": {},
   "source": [
    "### Ejercicio tuplas\n",
    "Crear una variable flotante, integer, boleana y compleja e imprimir el tipo de variable que es."
   ]
  },
  {
   "cell_type": "code",
   "execution_count": 6,
   "id": "99bb575f",
   "metadata": {},
   "outputs": [
    {
     "name": "stdout",
     "output_type": "stream",
     "text": [
      "<class 'float'>\n",
      "<class 'int'>\n",
      "<class 'bool'>\n",
      "<class 'complex'>\n"
     ]
    }
   ],
   "source": [
    "estatura = 1.68\n",
    "año = 2021\n",
    "es_hombre = True\n",
    "c = 2 + 3j\n",
    "print(type(estatura))\n",
    "print(type(año))\n",
    "print(type(es_hombre))\n",
    "print(type(c))"
   ]
  },
  {
   "cell_type": "markdown",
   "id": "e73e9743",
   "metadata": {},
   "source": [
    "Crear una tupla con valores enteros imprimir el primer y ultimo valor."
   ]
  },
  {
   "cell_type": "code",
   "execution_count": 7,
   "id": "57f61933",
   "metadata": {},
   "outputs": [
    {
     "name": "stdout",
     "output_type": "stream",
     "text": [
      "El primer valor de la tupla es: 1\n",
      "El ultimo valor de la tupla es: 6\n"
     ]
    }
   ],
   "source": [
    "tupla = (1, 2, 3, 4, 5, 6)\n",
    "print(\"El primer valor de la tupla es:\", tupla[0])\n",
    "print(\"El ultimo valor de la tupla es:\", tupla[-1])"
   ]
  },
  {
   "cell_type": "markdown",
   "id": "0c881021",
   "metadata": {},
   "source": [
    "Añadir 3 valores de string a la tupla."
   ]
  },
  {
   "cell_type": "code",
   "execution_count": 8,
   "id": "e897c75d",
   "metadata": {},
   "outputs": [
    {
     "data": {
      "text/plain": [
       "(1, 2, 3, 4, 5, 6, 'Pedro', 'Juan', 'Mario')"
      ]
     },
     "execution_count": 8,
     "metadata": {},
     "output_type": "execute_result"
    }
   ],
   "source": [
    "tupla = tupla + (\"Pedro\", \"Juan\", \"Mario\")\n",
    "tupla"
   ]
  },
  {
   "cell_type": "markdown",
   "id": "563f2500",
   "metadata": {},
   "source": [
    "Verificar si una variable existe dentro de la tupla."
   ]
  },
  {
   "cell_type": "code",
   "execution_count": 9,
   "id": "9df4d052",
   "metadata": {},
   "outputs": [
    {
     "name": "stdout",
     "output_type": "stream",
     "text": [
      "Esta variable no esta en la tupla\n"
     ]
    }
   ],
   "source": [
    "if año in tupla:\n",
    "    print(\"Esta variable esta en la tupla\")\n",
    "else:\n",
    "    print(\"Esta variable no esta en la tupla\")"
   ]
  },
  {
   "cell_type": "markdown",
   "id": "2dbf4b72",
   "metadata": {},
   "source": [
    "### Ejercicio listas\n",
    "Crear una lista con 40 elementos aleatorios enteros.\n",
    "\n",
    "[Liga para dudas](https://j2logo.com/python/generar-numeros-aleatorios-en-python/)"
   ]
  },
  {
   "cell_type": "code",
   "execution_count": 10,
   "id": "e3adb9d3",
   "metadata": {},
   "outputs": [
    {
     "name": "stdout",
     "output_type": "stream",
     "text": [
      "[290, 974, 78, 157, 212, 332, 288, 252, 415, 133, 328, 482, 744, 725, 600, 35, 301, 652, 889, 223, 114, 332, 12, 975, 120, 711, 604, 609, 660, 432, 278, 435, 722, 707, 368, 717, 604, 113, 107, 587]\n"
     ]
    }
   ],
   "source": [
    "import random\n",
    "\n",
    "lista = [random.randint(0,1000) for _ in range(40)]\n",
    "print(lista)"
   ]
  },
  {
   "cell_type": "markdown",
   "id": "46417536",
   "metadata": {},
   "source": [
    "Con una funcion (def) crear dos listas nuevas a partir de la lista creada por numeros aleatorios, en la cual en una esten los elementos pares, y en la otra los elementos impares.\n",
    "\n",
    "[Liga para dudas](https://www.w3schools.com/python/python_lists_comprehension.asp)"
   ]
  },
  {
   "cell_type": "code",
   "execution_count": 11,
   "id": "235b98b1",
   "metadata": {},
   "outputs": [],
   "source": [
    "def pares(listado):\n",
    "    par = [i for i in listado if i%2 == 0]\n",
    "    return par\n",
    "\n",
    "def impares(listado):\n",
    "    impar = [i for i in listado if i%2 !=0]\n",
    "    return impar\n",
    "\n",
    "lista_par = pares(lista)\n",
    "lista_impar = impares(lista)"
   ]
  },
  {
   "cell_type": "markdown",
   "id": "fb088c0d",
   "metadata": {},
   "source": [
    "Crear dos variables con la longitud de ambas listas nuevas e imprimir las variables."
   ]
  },
  {
   "cell_type": "code",
   "execution_count": 12,
   "id": "a4c8907b",
   "metadata": {},
   "outputs": [
    {
     "name": "stdout",
     "output_type": "stream",
     "text": [
      "El largo de la lista con los numeros pares es: 23\n",
      "El largo de la lista con los numeros impares es: 17\n"
     ]
    }
   ],
   "source": [
    "lar_par = len(lista_par)\n",
    "lar_impar = len(lista_impar)\n",
    "print(\"El largo de la lista con los numeros pares es:\", lar_par)\n",
    "print(\"El largo de la lista con los numeros impares es:\", lar_impar)"
   ]
  },
  {
   "cell_type": "markdown",
   "id": "6d857d5e",
   "metadata": {},
   "source": [
    "Ordenar los elementos de la lista par de mayor a menor, y los de la lista impar de menor a mayor.\n",
    "\n",
    "[Liga para dudas](https://j2logo.com/python/ordenar-una-lista-en-python/)"
   ]
  },
  {
   "cell_type": "code",
   "execution_count": 13,
   "id": "7872fdaa",
   "metadata": {},
   "outputs": [
    {
     "name": "stdout",
     "output_type": "stream",
     "text": [
      "[974, 744, 722, 660, 652, 604, 604, 600, 482, 432, 368, 332, 332, 328, 290, 288, 278, 252, 212, 120, 114, 78, 12]\n",
      "[35, 107, 113, 133, 157, 223, 301, 415, 435, 587, 609, 707, 711, 717, 725, 889, 975]\n"
     ]
    }
   ],
   "source": [
    "lista_par.sort(reverse = True)\n",
    "print(lista_par)\n",
    "lista_impar.sort()\n",
    "print(lista_impar)"
   ]
  },
  {
   "cell_type": "markdown",
   "id": "dcfef5f3",
   "metadata": {},
   "source": [
    "Utilizar al menos cuatro de las funciones de listas en python en la lista original de 40 elementos."
   ]
  },
  {
   "cell_type": "code",
   "execution_count": 14,
   "id": "ef37bb7d",
   "metadata": {},
   "outputs": [
    {
     "name": "stdout",
     "output_type": "stream",
     "text": [
      "El numero maximo en la lista es: 975\n",
      "El numero minimo en la lista es: 12\n",
      "La suma de todos los numero de la lista es: 17317\n",
      "El promedio de los numeros de la lista es: 432.925\n"
     ]
    }
   ],
   "source": [
    "print(\"El numero maximo en la lista es:\", max(lista))\n",
    "print(\"El numero minimo en la lista es:\", min(lista))\n",
    "print(\"La suma de todos los numero de la lista es:\", sum(lista))\n",
    "promedio = sum(lista)/len(lista)\n",
    "print(\"El promedio de los numeros de la lista es:\", promedio)"
   ]
  },
  {
   "cell_type": "markdown",
   "id": "33856fa0",
   "metadata": {},
   "source": [
    "### Ejercicio diccionarios\n",
    "Crear un diccionario de 6 personas que conozcas con su primer nombre y su edad."
   ]
  },
  {
   "cell_type": "code",
   "execution_count": 15,
   "id": "e06b059f",
   "metadata": {},
   "outputs": [
    {
     "name": "stdout",
     "output_type": "stream",
     "text": [
      "{'Eloisa': 50, 'Sofia': 17, 'Juana': 72, 'Alfredo': 60, 'Josue': 20, 'Octavio': 10}\n"
     ]
    }
   ],
   "source": [
    "dicc1 = {'Eloisa': 50, 'Sofia': 17, 'Juana': 72, 'Alfredo': 60, 'Josue': 20, \"Octavio\": 10}\n",
    "print(dicc1)"
   ]
  },
  {
   "cell_type": "markdown",
   "id": "e2778a0a",
   "metadata": {},
   "source": [
    "Crear una lista con los valores de la edad y reacomodar la lista de menor a mayor valor."
   ]
  },
  {
   "cell_type": "code",
   "execution_count": 16,
   "id": "47add334",
   "metadata": {},
   "outputs": [
    {
     "name": "stdout",
     "output_type": "stream",
     "text": [
      "Las edades acomodadas de menor a mayor son:  [10, 17, 20, 50, 60, 72]\n"
     ]
    }
   ],
   "source": [
    "edades = list(dicc1.values())\n",
    "edades.sort()\n",
    "print(\"Las edades acomodadas de menor a mayor son: \", edades)"
   ]
  },
  {
   "cell_type": "markdown",
   "id": "b22b5e67",
   "metadata": {},
   "source": [
    "Usando el diccionario y un loop, imprimir solo los nombres.\n",
    "\n",
    "[Liga para dudas](https://devcode.la/tutoriales/diccionarios-en-python/)"
   ]
  },
  {
   "cell_type": "code",
   "execution_count": 17,
   "id": "dd29077c",
   "metadata": {},
   "outputs": [
    {
     "name": "stdout",
     "output_type": "stream",
     "text": [
      "La persona 1 tiene el nombre Eloisa \n",
      "La persona 2 tiene el nombre Sofia \n",
      "La persona 3 tiene el nombre Juana \n",
      "La persona 4 tiene el nombre Alfredo \n",
      "La persona 5 tiene el nombre Josue \n",
      "La persona 6 tiene el nombre Octavio \n"
     ]
    }
   ],
   "source": [
    "i = 1\n",
    "for clave, valor in dicc1.items(): \n",
    "    print (\"La persona\", i, \"tiene el nombre %s \" % (clave))\n",
    "    i += 1"
   ]
  },
  {
   "cell_type": "markdown",
   "id": "9bc7699f",
   "metadata": {},
   "source": [
    "Añadir dos personas nuevas a tu diccionario, incluyendo edad."
   ]
  },
  {
   "cell_type": "code",
   "execution_count": 18,
   "id": "28dfd1da",
   "metadata": {},
   "outputs": [
    {
     "name": "stdout",
     "output_type": "stream",
     "text": [
      "{'Eloisa': 50, 'Sofia': 17, 'Juana': 72, 'Alfredo': 60, 'Josue': 20, 'Octavio': 10, 'Armando': 21, 'Frida': 19}\n"
     ]
    }
   ],
   "source": [
    "dicc1['Armando'] = 21\n",
    "dicc1['Frida'] = 19\n",
    "print(dicc1)"
   ]
  },
  {
   "cell_type": "markdown",
   "id": "36da7249",
   "metadata": {},
   "source": [
    "### Ejercicio sets\n",
    "Crea un set con 100 numeros aleatorios enteros del 1 al 25."
   ]
  },
  {
   "cell_type": "code",
   "execution_count": 25,
   "id": "f772df3a",
   "metadata": {},
   "outputs": [
    {
     "name": "stdout",
     "output_type": "stream",
     "text": [
      "{1, 2, 3, 4, 5, 6, 7, 8, 9, 10, 11, 12, 13, 14, 15, 16, 17, 18, 19, 20, 21, 22, 23, 24, 25}\n"
     ]
    }
   ],
   "source": [
    "import random\n",
    "\n",
    "set1 = set()\n",
    "i = 1\n",
    "while i <= 100:\n",
    "    set1.add(random.randint(1,25))\n",
    "    i += 1\n",
    "print(set1)"
   ]
  },
  {
   "cell_type": "markdown",
   "id": "db5edba8",
   "metadata": {},
   "source": [
    "* En este apartado del ejercicio el set quedaria con a lo maximo 25 numeros por que un set no permite que se repitan elementos"
   ]
  },
  {
   "cell_type": "markdown",
   "id": "e828ae56",
   "metadata": {},
   "source": [
    "Comprueba la longitud de tu set."
   ]
  },
  {
   "cell_type": "code",
   "execution_count": 26,
   "id": "c5ffdb81",
   "metadata": {},
   "outputs": [
    {
     "name": "stdout",
     "output_type": "stream",
     "text": [
      "La longitud del set es: 25\n"
     ]
    }
   ],
   "source": [
    "long = len(set1)\n",
    "print(\"La longitud del set es:\", long)"
   ]
  },
  {
   "cell_type": "markdown",
   "id": "d0c050b1",
   "metadata": {},
   "source": [
    "* Esto se complementa con el apartado anterior, al solo poder repetir numeros del 1 al 25 en un set de 100 un numero se tiene que repetir al menos 1 vez, por lo que el tamaño del set nunca va a poder ser 100"
   ]
  },
  {
   "cell_type": "markdown",
   "id": "ad609c3f",
   "metadata": {},
   "source": [
    "Crea una lista de 5 numeros aleatorios del 1 al 10 y comprueba si cada valor aparece en el set inicial."
   ]
  },
  {
   "cell_type": "code",
   "execution_count": 27,
   "id": "0ee2eb2f",
   "metadata": {},
   "outputs": [
    {
     "name": "stdout",
     "output_type": "stream",
     "text": [
      "El valor 1 si esta en el set inicial\n",
      "El valor 4 si esta en el set inicial\n",
      "El valor 3 si esta en el set inicial\n",
      "El valor 1 si esta en el set inicial\n",
      "El valor 8 si esta en el set inicial\n"
     ]
    }
   ],
   "source": [
    "lista2 = [random.randint(1,10) for _ in range(5)]\n",
    "for i in lista2:\n",
    "    if i in set1:\n",
    "        print(\"El valor\", i, \"si esta en el set inicial\")\n",
    "    else:\n",
    "        print(\"El valor\", i, \"no esta en el set inicial\")"
   ]
  },
  {
   "cell_type": "markdown",
   "id": "25ead736",
   "metadata": {},
   "source": [
    "* Al ser numeros aleatorios del 1 al 10 siempre van a estar en el set inicial por que el set inicial va del 1 al 25."
   ]
  }
 ],
 "metadata": {
  "kernelspec": {
   "display_name": "Python 3",
   "language": "python",
   "name": "python3"
  },
  "language_info": {
   "codemirror_mode": {
    "name": "ipython",
    "version": 3
   },
   "file_extension": ".py",
   "mimetype": "text/x-python",
   "name": "python",
   "nbconvert_exporter": "python",
   "pygments_lexer": "ipython3",
   "version": "3.8.8"
  }
 },
 "nbformat": 4,
 "nbformat_minor": 5
}
