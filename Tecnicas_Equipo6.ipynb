{
  "nbformat": 4,
  "nbformat_minor": 0,
  "metadata": {
    "colab": {
      "name": "Tecnicas_Equipo6.ipynb",
      "provenance": [],
      "collapsed_sections": []
    },
    "kernelspec": {
      "name": "python3",
      "display_name": "Python 3"
    },
    "language_info": {
      "name": "python"
    }
  },
  "cells": [
    {
      "cell_type": "markdown",
      "metadata": {
        "id": "p_cM06zfFW3j"
      },
      "source": [
        "# **Ejercicio de técnicas de mineria**\n",
        "\n",
        "**Equipo** **6**; gpo: 01, *lunes*. \n",
        "\n",
        "Integrantes:\n",
        "\n",
        "* 1794593 Gutiérrez Herrera Luisa Fernanda.\n",
        "* 1796551 Sánchez Bracho Joss Alberth\n",
        "* 1847156 Montemayor Guerra Diego Marcelo\n",
        "* 1852645 Ovalle Salas Britany\n",
        "* 1861240 Ávila Rodríguez Delfino Azael"
      ]
    },
    {
      "cell_type": "markdown",
      "metadata": {
        "id": "9sErf3qFG0Lf"
      },
      "source": [
        "Nuestra base de datos se llama *Video Game Sales* y el url de la página donde se encuentra es: *https://www.kaggle.com/gregorut/videogamesales*\n",
        "\n",
        "Lo primero que vamos a realizar para las tecnicas de mineria es limpiar nuestra base datos, para posteriormente generar bases mas resumidas para aplicar las distintas tecnicas de nuestro interes."
      ]
    },
    {
      "cell_type": "code",
      "metadata": {
        "colab": {
          "base_uri": "https://localhost:8080/",
          "height": 142
        },
        "id": "JNTcMLMvLoJ6",
        "outputId": "c3aa805b-8a88-4cbc-dd52-be29095b64c2"
      },
      "source": [
        "import pandas as pd\n",
        "import numpy as np\n",
        "\n",
        "bd= pd.read_csv(\"vgsales.csv\") #Se lee y asigna la base de datos a la variable bd\n",
        "\n",
        "#Gracias a el analisis de visualizacion, eliminaremos las siguientes variables\n",
        "bdn= bd.drop(['EU_Sales','JP_Sales','Other_Sales'],axis=1) \n",
        "\n",
        "#Reemplazaremos los datos nulos por ceros para un mejor manejo de la informacion\n",
        "bdc = bdn.fillna(0) \n",
        "\n",
        "#Le cambiaremos los nombres a las columnas para una mejor interpretacion de los datos\n",
        "bd1=bdc.rename(columns = {'Rank':'Ranking','Name':'Nombre','Platform':'Plataforma', 'Year':'Año', 'Genre':'Genero',\n",
        "                     'Publisher':'Desarrolladora','NA_Sales':'Ventas_Norte_America_(MDD)', 'Global_Sales':'Ventas_Globales_(MDD)'})\n",
        "bd1.head(3)"
      ],
      "execution_count": 9,
      "outputs": [
        {
          "output_type": "execute_result",
          "data": {
            "text/html": [
              "<div>\n",
              "<style scoped>\n",
              "    .dataframe tbody tr th:only-of-type {\n",
              "        vertical-align: middle;\n",
              "    }\n",
              "\n",
              "    .dataframe tbody tr th {\n",
              "        vertical-align: top;\n",
              "    }\n",
              "\n",
              "    .dataframe thead th {\n",
              "        text-align: right;\n",
              "    }\n",
              "</style>\n",
              "<table border=\"1\" class=\"dataframe\">\n",
              "  <thead>\n",
              "    <tr style=\"text-align: right;\">\n",
              "      <th></th>\n",
              "      <th>Ranking</th>\n",
              "      <th>Nombre</th>\n",
              "      <th>Plataforma</th>\n",
              "      <th>Año</th>\n",
              "      <th>Genero</th>\n",
              "      <th>Desarrolladora</th>\n",
              "      <th>Ventas_Norte_America_(MDD)</th>\n",
              "      <th>Ventas_Globales_(MDD)</th>\n",
              "    </tr>\n",
              "  </thead>\n",
              "  <tbody>\n",
              "    <tr>\n",
              "      <th>0</th>\n",
              "      <td>1</td>\n",
              "      <td>Wii Sports</td>\n",
              "      <td>Wii</td>\n",
              "      <td>2006.0</td>\n",
              "      <td>Sports</td>\n",
              "      <td>Nintendo</td>\n",
              "      <td>41.49</td>\n",
              "      <td>82.74</td>\n",
              "    </tr>\n",
              "    <tr>\n",
              "      <th>1</th>\n",
              "      <td>2</td>\n",
              "      <td>Super Mario Bros.</td>\n",
              "      <td>NES</td>\n",
              "      <td>1985.0</td>\n",
              "      <td>Platform</td>\n",
              "      <td>Nintendo</td>\n",
              "      <td>29.08</td>\n",
              "      <td>40.24</td>\n",
              "    </tr>\n",
              "    <tr>\n",
              "      <th>2</th>\n",
              "      <td>3</td>\n",
              "      <td>Mario Kart Wii</td>\n",
              "      <td>Wii</td>\n",
              "      <td>2008.0</td>\n",
              "      <td>Racing</td>\n",
              "      <td>Nintendo</td>\n",
              "      <td>15.85</td>\n",
              "      <td>35.82</td>\n",
              "    </tr>\n",
              "  </tbody>\n",
              "</table>\n",
              "</div>"
            ],
            "text/plain": [
              "   Ranking  ... Ventas_Globales_(MDD)\n",
              "0        1  ...                 82.74\n",
              "1        2  ...                 40.24\n",
              "2        3  ...                 35.82\n",
              "\n",
              "[3 rows x 8 columns]"
            ]
          },
          "metadata": {},
          "execution_count": 9
        }
      ]
    },
    {
      "cell_type": "markdown",
      "metadata": {
        "id": "hBWaWTxiGF5n"
      },
      "source": [
        "## **Regresión lineal:**"
      ]
    },
    {
      "cell_type": "markdown",
      "metadata": {
        "id": "uTB-FZTuSMJ4"
      },
      "source": [
        "> Para esta técnica de minería nos basamos de: *https://rpubs.com/Joaquin_AR/226291?fbclid=IwAR0HLj4emZiRUGTHXkgiFRru-kUwBMD3QN5xBuWCn_vkkFpRZfn_Mwkw9bM* \n",
        "\n",
        "> En esta página encontramos toda la documentaciión referente a la regresión lineal en R. Utilizamos R ya que es el lenguaje con el que nos sentimos mas cómodos trabajando con el analisis estadístico."
      ]
    },
    {
      "cell_type": "markdown",
      "metadata": {
        "id": "xfKub1x9Oaeq"
      },
      "source": [
        "Al tener la base de datos limpia procederemos a seleccionar las columnas de nuestro interés. En este caso lo que queremos comprobar es si existe algun modelo para analizar la relacion entre las ventas de videojuegos en Norteamérica con las ventas globales. Nuestra suposicion es que si puede haber algun modelo, ya que en el mapa de correlaciones nos encontramos con el dato de que la correlacion entre Ventas_Norte_America_(MDD) y Ventas_Globales_(MDD) es muy alta (de 0.9) lo que indica que estan relacionadas."
      ]
    },
    {
      "cell_type": "code",
      "metadata": {
        "id": "_04bSAQtb901",
        "colab": {
          "base_uri": "https://localhost:8080/",
          "height": 419
        },
        "outputId": "8eac83e3-daa3-4fd4-ea86-70f538aea41f"
      },
      "source": [
        "#Crear base de datos para regresion lineal\n",
        "#Buscamos evaluar la relacion entre las ventas en NA y las ventas globales de videojuegos\n",
        "\n",
        "bd_reg = bd1.iloc[:, [6,7]]\n",
        "bd_reg.to_csv (r'base_regresion.csv', index = False, header=True)\n",
        "bd_reg"
      ],
      "execution_count": null,
      "outputs": [
        {
          "output_type": "execute_result",
          "data": {
            "text/html": [
              "<div>\n",
              "<style scoped>\n",
              "    .dataframe tbody tr th:only-of-type {\n",
              "        vertical-align: middle;\n",
              "    }\n",
              "\n",
              "    .dataframe tbody tr th {\n",
              "        vertical-align: top;\n",
              "    }\n",
              "\n",
              "    .dataframe thead th {\n",
              "        text-align: right;\n",
              "    }\n",
              "</style>\n",
              "<table border=\"1\" class=\"dataframe\">\n",
              "  <thead>\n",
              "    <tr style=\"text-align: right;\">\n",
              "      <th></th>\n",
              "      <th>Ventas_Norte_America_(MDD)</th>\n",
              "      <th>Ventas_Globales_(MDD)</th>\n",
              "    </tr>\n",
              "  </thead>\n",
              "  <tbody>\n",
              "    <tr>\n",
              "      <th>0</th>\n",
              "      <td>41.49</td>\n",
              "      <td>82.74</td>\n",
              "    </tr>\n",
              "    <tr>\n",
              "      <th>1</th>\n",
              "      <td>29.08</td>\n",
              "      <td>40.24</td>\n",
              "    </tr>\n",
              "    <tr>\n",
              "      <th>2</th>\n",
              "      <td>15.85</td>\n",
              "      <td>35.82</td>\n",
              "    </tr>\n",
              "    <tr>\n",
              "      <th>3</th>\n",
              "      <td>15.75</td>\n",
              "      <td>33.00</td>\n",
              "    </tr>\n",
              "    <tr>\n",
              "      <th>4</th>\n",
              "      <td>11.27</td>\n",
              "      <td>31.37</td>\n",
              "    </tr>\n",
              "    <tr>\n",
              "      <th>...</th>\n",
              "      <td>...</td>\n",
              "      <td>...</td>\n",
              "    </tr>\n",
              "    <tr>\n",
              "      <th>16593</th>\n",
              "      <td>0.01</td>\n",
              "      <td>0.01</td>\n",
              "    </tr>\n",
              "    <tr>\n",
              "      <th>16594</th>\n",
              "      <td>0.01</td>\n",
              "      <td>0.01</td>\n",
              "    </tr>\n",
              "    <tr>\n",
              "      <th>16595</th>\n",
              "      <td>0.00</td>\n",
              "      <td>0.01</td>\n",
              "    </tr>\n",
              "    <tr>\n",
              "      <th>16596</th>\n",
              "      <td>0.00</td>\n",
              "      <td>0.01</td>\n",
              "    </tr>\n",
              "    <tr>\n",
              "      <th>16597</th>\n",
              "      <td>0.01</td>\n",
              "      <td>0.01</td>\n",
              "    </tr>\n",
              "  </tbody>\n",
              "</table>\n",
              "<p>16598 rows × 2 columns</p>\n",
              "</div>"
            ],
            "text/plain": [
              "       Ventas_Norte_America_(MDD)  Ventas_Globales_(MDD)\n",
              "0                           41.49                  82.74\n",
              "1                           29.08                  40.24\n",
              "2                           15.85                  35.82\n",
              "3                           15.75                  33.00\n",
              "4                           11.27                  31.37\n",
              "...                           ...                    ...\n",
              "16593                        0.01                   0.01\n",
              "16594                        0.01                   0.01\n",
              "16595                        0.00                   0.01\n",
              "16596                        0.00                   0.01\n",
              "16597                        0.01                   0.01\n",
              "\n",
              "[16598 rows x 2 columns]"
            ]
          },
          "metadata": {},
          "execution_count": 2
        }
      ]
    },
    {
      "cell_type": "markdown",
      "metadata": {
        "id": "yGiM_kTpQHhs"
      },
      "source": [
        "Al ya tener la base de datos con solo nuestras 2 variables de interes, podemos realizar el análisis estadístico en Rstudio."
      ]
    },
    {
      "cell_type": "code",
      "metadata": {
        "colab": {
          "base_uri": "https://localhost:8080/"
        },
        "id": "7TyXuyHNTLs8",
        "outputId": "7f146d62-bbde-4bf8-bd92-c1b1a3b4344c"
      },
      "source": [
        "from google.colab import drive\n",
        "drive.mount('/content/drive')"
      ],
      "execution_count": 5,
      "outputs": [
        {
          "output_type": "stream",
          "name": "stdout",
          "text": [
            "Mounted at /content/drive\n"
          ]
        }
      ]
    },
    {
      "cell_type": "code",
      "metadata": {
        "colab": {
          "base_uri": "https://localhost:8080/",
          "height": 131
        },
        "id": "reL4BY44TZkN",
        "outputId": "f9ad747b-16f1-492c-a4bf-27b8a2c57786"
      },
      "source": [
        "#@title Codigo utilizado en R\n",
        "from IPython.display import Image\n",
        "#Copiamos la ruta de acceso y la pegamos entre las comillas\n",
        "Image(\"/content/drive/MyDrive/Imagenes/Codigo_regresion.png\")"
      ],
      "execution_count": 6,
      "outputs": [
        {
          "output_type": "execute_result",
          "data": {
            "image/png": "[encoded data removed]",
            "text/plain": [
              "<IPython.core.display.Image object>"
            ]
          },
          "metadata": {},
          "execution_count": 6
        }
      ]
    },
    {
      "cell_type": "code",
      "metadata": {
        "id": "wgQe5VFbbPE5",
        "colab": {
          "base_uri": "https://localhost:8080/",
          "height": 87
        },
        "outputId": "abad989c-7791-4ac6-c753-63553abca736"
      },
      "source": [
        "#@title Coeficientes de la regresión\n",
        "from IPython.display import Image\n",
        "#Copiamos la ruta de acceso y la pegamos entre las comillas\n",
        "Image(\"/content/drive/MyDrive/Imagenes/Coeficientes_regresion.png\")"
      ],
      "execution_count": 7,
      "outputs": [
        {
          "output_type": "execute_result",
          "data": {
            "image/png": "[encoded data removed]",
            "text/plain": [
              "<IPython.core.display.Image object>"
            ]
          },
          "metadata": {},
          "execution_count": 7
        }
      ]
    },
    {
      "cell_type": "code",
      "metadata": {
        "colab": {
          "base_uri": "https://localhost:8080/",
          "height": 356
        },
        "id": "aoQTHEfybTDD",
        "outputId": "61c7b8f3-d264-420c-ce0b-c61ec317e308"
      },
      "source": [
        "#@title Gráfica de la regresión\n",
        "from IPython.display import Image\n",
        "#Copiamos la ruta de acceso y la pegamos entre las comillas\n",
        "Image(\"/content/drive/MyDrive/Imagenes/Grafica_regresion.png\")"
      ],
      "execution_count": 8,
      "outputs": [
        {
          "output_type": "execute_result",
          "data": {
            "image/png": "[encoded data removed]",
            "text/plain": [
              "<IPython.core.display.Image object>"
            ]
          },
          "metadata": {},
          "execution_count": 8
        }
      ]
    },
    {
      "cell_type": "code",
      "metadata": {
        "colab": {
          "base_uri": "https://localhost:8080/",
          "height": 71
        },
        "id": "uiRs1X-sbr1P",
        "outputId": "3a6322e4-cf09-4d35-d789-34c30f2a0aab"
      },
      "source": [
        "#@title Indicadores de la regresión\n",
        "from IPython.display import Image\n",
        "#Copiamos la ruta de acceso y la pegamos entre las comillas\n",
        "Image(\"/content/drive/MyDrive/Imagenes/Indicadores_regresion.png\")"
      ],
      "execution_count": null,
      "outputs": [
        {
          "output_type": "execute_result",
          "data": {
            "image/png": "[encoded data removed]",
            "text/plain": [
              "<IPython.core.display.Image object>"
            ]
          },
          "metadata": {},
          "execution_count": 8
        }
      ]
    },
    {
      "cell_type": "markdown",
      "metadata": {
        "id": "K3nGkapseL94"
      },
      "source": [
        "###Conclusiones\n",
        "Como **métricas de evaluación** para esta técnica utilizaremos los indicadores del *p-valor* y la *R cuadrada ajustada*.\n",
        "\n",
        "El *p-valor* es igual al 2.2e-16, lo cual es un valor muy pequeño lo que nos indica que si hay una relacion entre las variables Ventas_Norte_America_(MDD) y Ventas_Globales_(MDD) ya que es mucho menor a un alfa de 0.05. Por lo que podemos concluir que hay una relacion lineal entre estas variables con un 95% de confianza.\n",
        "\n",
        "Con la R cuadrada ajustada, lo que estamos buscando es que se acerque lo mas posible al 1, ya que es una proporción que nos indica que porcentaje de los datos es explicado por el modelo. En nuestro caso la R cuadrada ajustada es igual a 0.8856 lo que es algo bueno, ya que explica un gran numero de nuestros datos.\n",
        "\n",
        "Por lo tanto el modelo de regresión lineal con el que nos quedariamos seria con:\n",
        "\n",
        "**Ventas_Globales_(MDD) = 0.063202 + 1.791827(Ventas_Norte_America_(MDD))**\n",
        "\n",
        "Una de las áreas de oportunidad identificadas es que se puede buscar un mejor modelo, es decir, con un R cuadrada mayor al actual."
      ]
    },
    {
      "cell_type": "markdown",
      "metadata": {
        "id": "fSHiltJmZDd7"
      },
      "source": [
        "#Series de Tiempo\n"
      ]
    },
    {
      "cell_type": "markdown",
      "metadata": {
        "id": "hN19n_nud9G9"
      },
      "source": [
        "> Para esta técnica de minería nos basamos de: *https://doi.org/10.13140/RG.2.1.2571.9841* \n",
        "\n",
        "Al tener la base de datos limpia procederemos a seleccionar las columnas de nuestro interés. En este caso lo que queremos comprobar es hacer las proyecciones de las ventas de videojuegos de acción en Norteamerica, ya que es nuestro mercado objetivo y con la práctica de visualización encontramos que ese género ha sido el mas vendido en este mercado. Por lo cual utilizaremos series de tiempo ya que es la técnica mas adecuada para hacer proyecciones.\n",
        "\n",
        "Lo primero que haremos va a ser seleccionar las columnas de nuestro interes y hacer nuestra serie de tiempo."
      ]
    },
    {
      "cell_type": "code",
      "metadata": {
        "id": "DPBTioDjbuBi",
        "colab": {
          "base_uri": "https://localhost:8080/",
          "height": 419
        },
        "outputId": "87027d28-16b7-424f-a6e8-9a114dbfc702"
      },
      "source": [
        "#Crear base de datos para series de tiempo\n",
        "#Buscamos juntar las ventas de videojuegos de accion en Norteamerica por año\n",
        "\n",
        "bd_reg = bd1.iloc[:, [3,4,6]]\n",
        "bd_reg = bd_reg.loc[bd_reg.loc[:,'Genero']==\"Action\"]\n",
        "bd_reg = bd_reg.drop(['Genero'], axis = 1)\n",
        "bd_reg.to_csv (r'serie_videojuegos.csv', index = False, header=True)\n",
        "bd_reg"
      ],
      "execution_count": 32,
      "outputs": [
        {
          "output_type": "execute_result",
          "data": {
            "text/html": [
              "<div>\n",
              "<style scoped>\n",
              "    .dataframe tbody tr th:only-of-type {\n",
              "        vertical-align: middle;\n",
              "    }\n",
              "\n",
              "    .dataframe tbody tr th {\n",
              "        vertical-align: top;\n",
              "    }\n",
              "\n",
              "    .dataframe thead th {\n",
              "        text-align: right;\n",
              "    }\n",
              "</style>\n",
              "<table border=\"1\" class=\"dataframe\">\n",
              "  <thead>\n",
              "    <tr style=\"text-align: right;\">\n",
              "      <th></th>\n",
              "      <th>Año</th>\n",
              "      <th>Ventas_Norte_America_(MDD)</th>\n",
              "    </tr>\n",
              "  </thead>\n",
              "  <tbody>\n",
              "    <tr>\n",
              "      <th>16</th>\n",
              "      <td>2013.0</td>\n",
              "      <td>7.01</td>\n",
              "    </tr>\n",
              "    <tr>\n",
              "      <th>17</th>\n",
              "      <td>2004.0</td>\n",
              "      <td>9.43</td>\n",
              "    </tr>\n",
              "    <tr>\n",
              "      <th>23</th>\n",
              "      <td>2013.0</td>\n",
              "      <td>9.63</td>\n",
              "    </tr>\n",
              "    <tr>\n",
              "      <th>24</th>\n",
              "      <td>2002.0</td>\n",
              "      <td>8.41</td>\n",
              "    </tr>\n",
              "    <tr>\n",
              "      <th>38</th>\n",
              "      <td>2001.0</td>\n",
              "      <td>6.99</td>\n",
              "    </tr>\n",
              "    <tr>\n",
              "      <th>...</th>\n",
              "      <td>...</td>\n",
              "      <td>...</td>\n",
              "    </tr>\n",
              "    <tr>\n",
              "      <th>16564</th>\n",
              "      <td>2007.0</td>\n",
              "      <td>0.01</td>\n",
              "    </tr>\n",
              "    <tr>\n",
              "      <th>16567</th>\n",
              "      <td>2014.0</td>\n",
              "      <td>0.00</td>\n",
              "    </tr>\n",
              "    <tr>\n",
              "      <th>16582</th>\n",
              "      <td>2001.0</td>\n",
              "      <td>0.01</td>\n",
              "    </tr>\n",
              "    <tr>\n",
              "      <th>16583</th>\n",
              "      <td>1999.0</td>\n",
              "      <td>0.01</td>\n",
              "    </tr>\n",
              "    <tr>\n",
              "      <th>16589</th>\n",
              "      <td>2016.0</td>\n",
              "      <td>0.00</td>\n",
              "    </tr>\n",
              "  </tbody>\n",
              "</table>\n",
              "<p>3316 rows × 2 columns</p>\n",
              "</div>"
            ],
            "text/plain": [
              "          Año  Ventas_Norte_America_(MDD)\n",
              "16     2013.0                        7.01\n",
              "17     2004.0                        9.43\n",
              "23     2013.0                        9.63\n",
              "24     2002.0                        8.41\n",
              "38     2001.0                        6.99\n",
              "...       ...                         ...\n",
              "16564  2007.0                        0.01\n",
              "16567  2014.0                        0.00\n",
              "16582  2001.0                        0.01\n",
              "16583  1999.0                        0.01\n",
              "16589  2016.0                        0.00\n",
              "\n",
              "[3316 rows x 2 columns]"
            ]
          },
          "metadata": {},
          "execution_count": 32
        }
      ]
    },
    {
      "cell_type": "markdown",
      "metadata": {
        "id": "ixUOwJdEkj4J"
      },
      "source": [
        "Ya que obtuvimos la serie pudimos empezar con el analisis, para esto elegimos hacerlo en R, ya que es donde nos sentimos mas comodo para el análisis estadístico. "
      ]
    },
    {
      "cell_type": "code",
      "metadata": {
        "id": "mLhyNVFupWn-"
      },
      "source": [
        "%load_ext rpy2.ipython\n"
      ],
      "execution_count": null,
      "outputs": []
    },
    {
      "cell_type": "code",
      "metadata": {
        "colab": {
          "base_uri": "https://localhost:8080/",
          "height": 1000
        },
        "id": "jPueuqkwxiAk",
        "outputId": "4a0427d5-3dce-403f-d69a-54b27eb629e2"
      },
      "source": [
        "%%R\n",
        "install.packages(\"tseries\")\n",
        "vid = read.csv(\"serie_videojuegos.csv\", fileEncoding = \"Latin1\", check.names = F)\n",
        "vid\n",
        "library(tseries)\n",
        "plot(vid)\n",
        "\n",
        "  svid<-ts(vid$VentasNA, start=c(1979), end=c(2016))\n",
        "  plot(svid)\n",
        "\n",
        "\n",
        "#1.-Clasificación\n",
        "#1.1 cambios en media\n",
        "rl<-lm(svid~time(svid))\n",
        "abline(rl,col=\"red\")\n",
        "summary(rl)\n",
        "#H0: el modelo no es significativo\n",
        "#Ha: el modelo es significativo\n",
        "#como (p-valor=1.29e-07) < (alpha=.05)  RH0\n",
        "#el modelo es significativo, la serie NO es estacionaria en media\n",
        "\n",
        "\n",
        "#1.2 Cambios en varianza\n",
        "library(tseries)\n",
        "adf.test(svid,alternative = \"stationary\")\n",
        "#H0:no es estacionaria en var\n",
        "#Ha: es estacionaria en var\n",
        "#(pvalor = 0.9632) > (alpha = 0.05) , No RH0. NO es estacionaria en var con 95% de confianza\n",
        "\n",
        "#realizamos corrección\n",
        "\n",
        "c1<-diff(log(svid))#datos log\n",
        "plot(c1)\n",
        "\n",
        "#revisando si funciona la correcion\n",
        "#tendencia de c1\n",
        "tc<-lm(c1~time(c1))\n",
        "summary(tc)\n",
        "abline(tc,col=\"red\")\n",
        "#H0: el modelo no es significativo\n",
        "#Ha: el modelo es significativo\n",
        "#como (p-valor=.9965) > (alpha=.05)  NO RH0\n",
        "#el modelo no es significativo, la serie es estacionaria en media\n",
        "#sin tendencia, estacionaria en media\n",
        "\n",
        "#Cambios en varianza\n",
        "adf.test(c1,alternative = \"stationary\")\n",
        "#H0:no es estacionaria en var\n",
        "#Ha: es estacionaria en var\n",
        "#(pvalor = 0.3091) > (alpha = 0.05) , No RH0. NO es estacionaria en var con 95% de confianza\n",
        "\n",
        "\n",
        "#realizamos segunda correccion\n",
        "c2<-diff(c1)\n",
        "plot(c2)\n",
        "\n",
        "#revisando correcion 2\n",
        "#cambio en media\n",
        "tlc2<-lm(c2~time(c2))\n",
        "summary(tlc2)#no muestra tendencia \n",
        "#H0: el modelo no es significativo\n",
        "#Ha: el modelo es significativo\n",
        "#como (p-valor=0.3904) > (alpha=.05)  NO RH0\n",
        "#el modelo no es significativo, la serie es estacionaria en media\n",
        "\n",
        "\n",
        "#varianza\n",
        "adf.test(c2,alternative = \"stationary\")\n",
        "#pvalor<alpha\n",
        "#estacionaria en varianza\n",
        "\n",
        "\n",
        "#serie c2 estacionaria\n",
        "#modelando c2\n",
        "#autocorrelogramas\n",
        "acf(c2)\n",
        "pacf(c2)#sugerencia de ARMA\n",
        "\n",
        "\n",
        "#Buscando ARMA,ciclo doble\n",
        "\n",
        "aic.mejor.arma<-Inf\n",
        "for(j in 0:10){\n",
        "  for (i in 0:10) {\n",
        "    u<-AIC(arima(c2, order=c(j,0,i), method=\"ML\"))\n",
        "    if(u<aic.mejor.arma){\n",
        "      aic.mejor.arma<-u \n",
        "      pq<-c(j,0,i) #guardando el orden\n",
        "    }\n",
        "  }\n",
        "}\n",
        "aic.mejor.arma #118.4447\n",
        "pq#arma(1,4)\n",
        "\n",
        "AIC(arima(svid, order=c(1,2,4), method=\"ML\"))#271.1209\n",
        "\n",
        "plot(svid, xlim = c(1979, 2026),ylim=c(-150,80))\n",
        "p.o11 <- predict(arima(svid, order = c(1,2,4), method = \"ML\"), n.ahead = 10)$pred\n",
        "lines(p.o11, col = \"red\")\n",
        "p.o11\n",
        "\n",
        "\n",
        "\n"
      ],
      "execution_count": null,
      "outputs": [
        {
          "output_type": "stream",
          "name": "stderr",
          "text": [
            "R[write to console]: Installing package into ‘/usr/local/lib/R/site-library’\n",
            "(as ‘lib’ is unspecified)\n",
            "\n",
            "R[write to console]: trying URL 'https://cran.rstudio.com/src/contrib/tseries_0.10-48.tar.gz'\n",
            "\n",
            "R[write to console]: Content type 'application/x-gzip'\n",
            "R[write to console]:  length 170342 bytes (166 KB)\n",
            "\n",
            "R[write to console]: =\n",
            "R[write to console]: =\n",
            "R[write to console]: =\n",
            "R[write to console]: =\n",
            "R[write to console]: =\n",
            "R[write to console]: =\n",
            "R[write to console]: =\n",
            "R[write to console]: =\n",
            "R[write to console]: =\n",
            "R[write to console]: =\n",
            "R[write to console]: =\n",
            "R[write to console]: =\n",
            "R[write to console]: =\n",
            "R[write to console]: =\n",
            "R[write to console]: =\n",
            "R[write to console]: =\n",
            "R[write to console]: =\n",
            "R[write to console]: =\n",
            "R[write to console]: =\n",
            "R[write to console]: =\n",
            "R[write to console]: =\n",
            "R[write to console]: =\n",
            "R[write to console]: =\n",
            "R[write to console]: =\n",
            "R[write to console]: =\n",
            "R[write to console]: =\n",
            "R[write to console]: =\n",
            "R[write to console]: =\n",
            "R[write to console]: =\n",
            "R[write to console]: =\n",
            "R[write to console]: =\n",
            "R[write to console]: =\n",
            "R[write to console]: =\n",
            "R[write to console]: =\n",
            "R[write to console]: =\n",
            "R[write to console]: =\n",
            "R[write to console]: =\n",
            "R[write to console]: =\n",
            "R[write to console]: =\n",
            "R[write to console]: =\n",
            "R[write to console]: =\n",
            "R[write to console]: =\n",
            "R[write to console]: =\n",
            "R[write to console]: =\n",
            "R[write to console]: =\n",
            "R[write to console]: =\n",
            "R[write to console]: =\n",
            "R[write to console]: =\n",
            "R[write to console]: =\n",
            "R[write to console]: =\n",
            "R[write to console]: \n",
            "\n",
            "R[write to console]: downloaded 166 KB\n",
            "\n",
            "\n",
            "R[write to console]: \n",
            "\n",
            "R[write to console]: \n",
            "R[write to console]: The downloaded source packages are in\n",
            "\t‘/tmp/RtmpsMtrQk/downloaded_packages’\n",
            "R[write to console]: \n",
            "R[write to console]: \n",
            "\n"
          ]
        },
        {
          "output_type": "stream",
          "name": "stdout",
          "text": [
            "Time Series:\n",
            "Start = 2017 \n",
            "End = 2026 \n",
            "Frequency = 1 \n",
            " [1]   -7.233088  -23.548048  -42.847942  -62.854717  -82.925084 -103.001171\n",
            " [7] -123.077774 -143.154422 -163.231075 -183.307728\n"
          ]
        },
        {
          "output_type": "display_data",
          "data": {
            "image/png": "[encoded data removed]"
          },
          "metadata": {}
        },
        {
          "output_type": "display_data",
          "data": {
            "image/png": "[encoded data removed]"
          },
          "metadata": {}
        },
        {
          "output_type": "display_data",
          "data": {
            "image/png": "[encoded data removed]"
          },
          "metadata": {}
        },
        {
          "output_type": "display_data",
          "data": {
            "image/png": "[encoded data removed]"
          },
          "metadata": {}
        },
        {
          "output_type": "display_data",
          "data": {
            "image/png": "[encoded data removed]"
          },
          "metadata": {}
        },
        {
          "output_type": "display_data",
          "data": {
            "image/png": "[encoded data removed]"
          },
          "metadata": {}
        },
        {
          "output_type": "display_data",
          "data": {
            "image/png": "[encoded data removed]"
          },
          "metadata": {}
        }
      ]
    },
    {
      "cell_type": "markdown",
      "metadata": {
        "id": "3_Tx_p_DZ6Tz"
      },
      "source": [
        "###Conclusiones\n",
        "Como **métricas de evaluación** para esta técnica utilizamos el indicador del *AIC*.\n",
        "\n",
        "En este caso estamos buscando el modelo con el *AIC* mas pequeño, y obtuvimos como resultado un modelo ARIMA(1,2,4), ya que tuvimos que diferencias 2 veces la serie y el modelo resultante fue un ARMA(1,4).\n",
        "\n",
        "Como conclusion podemos decir que los datos arrojados con la tecnica de series de tiempo no brindan informacion significante ya que las proyecciones resultaron negativas, esto se debe a que las ventas disminuyeron en los ultimos años eso hace que la proyeccion quede negativa.\n",
        "\n",
        "Por lo que algo que podriamos mejorar seria cambiar las ventas que estamos tomando en cuenta, ya que en este caso tomamos solo las ventas de videojuegos de accion, por lo que lo mas favorable seria ver las ventas totales en norteamerica para ver como se va a comportar este mercado en los proximos años."
      ]
    }
  ]
}